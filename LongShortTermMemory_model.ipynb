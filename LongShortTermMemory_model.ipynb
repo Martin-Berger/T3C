{
 "cells": [
  {
   "cell_type": "code",
   "execution_count": 36,
   "metadata": {
    "ExecuteTime": {
     "end_time": "2018-04-09T16:01:54.712077Z",
     "start_time": "2018-04-09T16:01:54.550Z"
    },
    "scrolled": true
   },
   "outputs": [],
   "source": [
    "library(keras)\n",
    "library(tidyverse)\n",
    "library(magrittr)\n",
    "library(text2vec)\n",
    "library(tokenizers)\n",
    "library(glmnet)\n",
    "library(doParallel)\n",
    "library(tm)\n",
    "library(caret)\n",
    "library(utiml)\n",
    "library(pROC)\n",
    "library(kerasR)\n",
    "registerDoParallel(4)"
   ]
  },
  {
   "cell_type": "code",
   "execution_count": 21,
   "metadata": {
    "ExecuteTime": {
     "end_time": "2018-04-09T15:54:57.024348Z",
     "start_time": "2018-04-09T15:54:35.413Z"
    }
   },
   "outputs": [],
   "source": [
    "data_set <- read.csv(\"DATA/train.csv\")\n",
    "targets <- c(\"toxic\", \"severe_toxic\", \"obscene\", \"threat\", \"insult\", \"identity_hate\")"
   ]
  },
  {
   "cell_type": "code",
   "execution_count": 29,
   "metadata": {
    "ExecuteTime": {
     "end_time": "2018-04-09T15:59:13.572003Z",
     "start_time": "2018-04-09T15:59:13.428Z"
    }
   },
   "outputs": [],
   "source": [
    "set.seed(42)\n",
    "smp_size <- floor(0.80 * nrow(data_set))\n",
    "train_ind <- sample(seq_len(nrow(data_set)), size = smp_size)\n",
    "test <- data_set[-train_ind, ]\n",
    "train <- data_set[train_ind, ]"
   ]
  },
  {
   "cell_type": "code",
   "execution_count": 61,
   "metadata": {
    "ExecuteTime": {
     "end_time": "2018-04-09T16:24:03.827809Z",
     "start_time": "2018-04-09T16:24:03.782Z"
    }
   },
   "outputs": [],
   "source": [
    "word_vector_size <- 50\n",
    "voc_lenght <- 20000\n",
    "max_words <- 200"
   ]
  },
  {
   "cell_type": "code",
   "execution_count": 30,
   "metadata": {
    "ExecuteTime": {
     "end_time": "2018-04-09T15:59:48.440157Z",
     "start_time": "2018-04-09T15:59:48.411Z"
    }
   },
   "outputs": [],
   "source": [
    "y_train <- train %>%\n",
    "    select(-comment_text) %>%\n",
    "    select(-id)"
   ]
  },
  {
   "cell_type": "code",
   "execution_count": 58,
   "metadata": {
    "ExecuteTime": {
     "end_time": "2018-04-09T16:22:09.845969Z",
     "start_time": "2018-04-09T16:22:01.112Z"
    }
   },
   "outputs": [],
   "source": [
    "tokenizer <- text_tokenizer(num_words = voc_lenght, filters = \"!\\\"#$%&()*+,-./:;<=>?@[\\\\]^_`{|}~\\t\\n\", lower = TRUE, split = \" \", char_level = FALSE, oov_token = NULL)\n",
    "\n",
    "train_comment <- train %$%\n",
    "    str_to_lower(comment_text) %>%\n",
    "    str_replace_all(\"[^[:alpha:]]\", \" \") %>%\n",
    "    str_replace_all(\"\\\\s+\", \" \") %>%\n",
    "    gsub(\"\\\\b\\\\w{1}\\\\s\",\"\", .) #Remove words with lengh less than 2"
   ]
  },
  {
   "cell_type": "code",
   "execution_count": 59,
   "metadata": {
    "ExecuteTime": {
     "end_time": "2018-04-09T16:22:14.573374Z",
     "start_time": "2018-04-09T16:22:12.370Z"
    }
   },
   "outputs": [],
   "source": [
    "test_comment <- test %$%\n",
    "    str_to_lower(comment_text) %>%\n",
    "    str_replace_all(\"[^[:alpha:]]\", \" \") %>%\n",
    "    str_replace_all(\"\\\\s+\", \" \") %>%\n",
    "    gsub(\"\\\\b\\\\w{1}\\\\s\",\"\", .) #Remove words with lengh less than 2"
   ]
  },
  {
   "cell_type": "code",
   "execution_count": 62,
   "metadata": {
    "ExecuteTime": {
     "end_time": "2018-04-09T16:26:23.794753Z",
     "start_time": "2018-04-09T16:25:54.625Z"
    }
   },
   "outputs": [],
   "source": [
    "fit_text_tokenizer(tokenizer, train_comment)\n",
    "tokenized_train <- texts_to_sequences(tokenizer, train_comment)\n",
    "tokenized_test <- texts_to_sequences(tokenizer, test_comment)"
   ]
  },
  {
   "cell_type": "code",
   "execution_count": null,
   "metadata": {
    "ExecuteTime": {
     "start_time": "2018-04-09T16:38:26.351Z"
    }
   },
   "outputs": [],
   "source": [
    "list(tokenized_train)"
   ]
  },
  {
   "cell_type": "code",
   "execution_count": 64,
   "metadata": {
    "ExecuteTime": {
     "end_time": "2018-04-09T16:37:33.532292Z",
     "start_time": "2018-04-09T16:33:38.395Z"
    }
   },
   "outputs": [
    {
     "ename": "ERROR",
     "evalue": "Error in py_call_impl(callable, dots$args, dots$keywords): ValueError: `sequences` must be a list of iterables. Found non-iterable: 1086\n\nDetailed traceback: \n  File \"/Users/antoinegargot/anaconda3/envs/r-tensorflow/lib/python3.6/site-packages/keras/preprocessing/sequence.py\", line 59, in pad_sequences\n    'Found non-iterable: ' + str(x))\n\n",
     "output_type": "error",
     "traceback": [
      "Error in py_call_impl(callable, dots$args, dots$keywords): ValueError: `sequences` must be a list of iterables. Found non-iterable: 1086\n\nDetailed traceback: \n  File \"/Users/antoinegargot/anaconda3/envs/r-tensorflow/lib/python3.6/site-packages/keras/preprocessing/sequence.py\", line 59, in pad_sequences\n    'Found non-iterable: ' + str(x))\n\nTraceback:\n",
      "1. pad_sequences(tokenized_train, maxlen = max_words, dtype = \"int32\", \n .     padding = \"pre\", truncating = \"pre\", value = 0)",
      "2. modules$keras.preprocessing.sequence$pad_sequences(sequences = sequences, \n .     maxlen = maxlen, dtype = dtype, padding = padding, truncating = truncating, \n .     value = value)",
      "3. py_call_impl(callable, dots$args, dots$keywords)"
     ]
    }
   ],
   "source": [
    "X_t <- pad_sequences(tokenized_train, maxlen = max_words, dtype = \"int32\", padding = \"pre\",\n",
    "  truncating = \"pre\", value = 0)\n",
    "X_te <- pad_sequences(tokenized_test, maxlen = max_words, dtype = \"int32\", padding = \"pre\",\n",
    "  truncating = \"pre\", value = 0)"
   ]
  },
  {
   "cell_type": "code",
   "execution_count": null,
   "metadata": {},
   "outputs": [],
   "source": []
  }
 ],
 "metadata": {
  "kernelspec": {
   "display_name": "R",
   "language": "R",
   "name": "ir"
  },
  "language_info": {
   "codemirror_mode": "r",
   "file_extension": ".r",
   "mimetype": "text/x-r-source",
   "name": "R",
   "pygments_lexer": "r",
   "version": "3.4.1"
  },
  "varInspector": {
   "cols": {
    "lenName": 16,
    "lenType": 16,
    "lenVar": 40
   },
   "kernels_config": {
    "python": {
     "delete_cmd_postfix": "",
     "delete_cmd_prefix": "del ",
     "library": "var_list.py",
     "varRefreshCmd": "print(var_dic_list())"
    },
    "r": {
     "delete_cmd_postfix": ") ",
     "delete_cmd_prefix": "rm(",
     "library": "var_list.r",
     "varRefreshCmd": "cat(var_dic_list()) "
    }
   },
   "types_to_exclude": [
    "module",
    "function",
    "builtin_function_or_method",
    "instance",
    "_Feature"
   ],
   "window_display": false
  }
 },
 "nbformat": 4,
 "nbformat_minor": 2
}
