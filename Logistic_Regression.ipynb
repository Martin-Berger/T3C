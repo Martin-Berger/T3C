{
 "cells": [
  {
   "cell_type": "code",
   "execution_count": 145,
   "metadata": {
    "ExecuteTime": {
     "end_time": "2018-04-06T18:13:23.669115Z",
     "start_time": "2018-04-06T18:13:23.561Z"
    }
   },
   "outputs": [],
   "source": [
    "library(tidyverse)\n",
    "library(magrittr)\n",
    "library(text2vec)\n",
    "library(tokenizers)\n",
    "library(glmnet)\n",
    "library(doParallel)\n",
    "library(tm)\n",
    "library(caret)\n",
    "library(utiml)\n",
    "registerDoParallel(4)"
   ]
  },
  {
   "cell_type": "markdown",
   "metadata": {},
   "source": [
    "## Data import"
   ]
  },
  {
   "cell_type": "code",
   "execution_count": 105,
   "metadata": {
    "ExecuteTime": {
     "end_time": "2018-04-06T16:35:12.795415Z",
     "start_time": "2018-04-06T16:34:56.589Z"
    }
   },
   "outputs": [],
   "source": [
    "data_set <- read.csv(\"DATA/train.csv\")\n",
    "targets <- c(\"toxic\", \"severe_toxic\", \"obscene\", \"threat\", \"insult\", \"identity_hate\")"
   ]
  },
  {
   "cell_type": "code",
   "execution_count": 106,
   "metadata": {
    "ExecuteTime": {
     "end_time": "2018-04-06T16:35:15.292018Z",
     "start_time": "2018-04-06T16:35:15.271Z"
    }
   },
   "outputs": [
    {
     "name": "stdout",
     "output_type": "stream",
     "text": [
      "[1] 159571      8\n",
      "[1] \"id\"            \"comment_text\"  \"toxic\"         \"severe_toxic\" \n",
      "[5] \"obscene\"       \"threat\"        \"insult\"        \"identity_hate\"\n"
     ]
    }
   ],
   "source": [
    "print(dim(data_set))\n",
    "#print(head(data_set))\n",
    "print(names(data_set))"
   ]
  },
  {
   "cell_type": "markdown",
   "metadata": {},
   "source": [
    "## Adding new feature to the data set"
   ]
  },
  {
   "cell_type": "code",
   "execution_count": 107,
   "metadata": {
    "ExecuteTime": {
     "end_time": "2018-04-06T16:35:19.204583Z",
     "start_time": "2018-04-06T16:35:16.415Z"
    }
   },
   "outputs": [],
   "source": [
    "data <- data_set %>% \n",
    "  select(-one_of(targets)) %>% \n",
    "  mutate(length = str_length(comment_text), ncap = str_count(comment_text, \"[A-Z]\"), ncap_len = ncap / length, nexcl = str_count(comment_text, fixed(\"!\")), nquest = str_count(comment_text, fixed(\"?\")), npunct = str_count(comment_text, \"[[:punct:]]\"), nword = str_count(comment_text, \"\\\\w+\"), nsymb = str_count(comment_text, \"&|@|#|\\\\$|%|\\\\*|\\\\^\")) %>% \n",
    "  select(-id)"
   ]
  },
  {
   "cell_type": "markdown",
   "metadata": {},
   "source": [
    "## Preprocessing and comments tokenization  "
   ]
  },
  {
   "cell_type": "code",
   "execution_count": 108,
   "metadata": {
    "ExecuteTime": {
     "end_time": "2018-04-06T16:35:31.273956Z",
     "start_time": "2018-04-06T16:35:20.863Z"
    }
   },
   "outputs": [],
   "source": [
    "comment_tokens <- data %$%\n",
    "  str_to_lower(comment_text) %>%\n",
    "  str_replace_all(\"[^[:alpha:]]\", \" \") %>%\n",
    "  str_replace_all(\"\\\\s+\", \" \") %>%\n",
    "  gsub(\"\\\\b\\\\w{1}\\\\s\",\"\", .) %>% #Remove words with lengh less than 2\n",
    "  itoken(tokenizer = tokenize_word_stems)"
   ]
  },
  {
   "cell_type": "markdown",
   "metadata": {},
   "source": [
    "##  Token vectorization as vocabulary for document term matrix"
   ]
  },
  {
   "cell_type": "code",
   "execution_count": 109,
   "metadata": {
    "ExecuteTime": {
     "end_time": "2018-04-06T16:35:43.867075Z",
     "start_time": "2018-04-06T16:35:32.385Z"
    }
   },
   "outputs": [
    {
     "name": "stdout",
     "output_type": "stream",
     "text": [
      "  |=======================================================| 100%"
     ]
    }
   ],
   "source": [
    "vectorizer <- create_vocabulary(it, ngram = c(1, 1), stopwords = stopwords(\"en\")) %>%\n",
    "  prune_vocabulary(term_count_min = 3, doc_proportion_max = 0.5, vocab_term_max = 4000) %>%\n",
    "  vocab_vectorizer()"
   ]
  },
  {
   "cell_type": "markdown",
   "metadata": {},
   "source": [
    "## TFIDF class and fit in the document term matrix of the tokens"
   ]
  },
  {
   "cell_type": "code",
   "execution_count": 110,
   "metadata": {
    "ExecuteTime": {
     "end_time": "2018-04-06T16:35:59.596852Z",
     "start_time": "2018-04-06T16:35:46.160Z"
    }
   },
   "outputs": [],
   "source": [
    "m_tfidf <- TfIdf$new(norm = \"l2\", sublinear_tf = T)\n",
    "tfidf <- create_dtm(comment_tokens, vectorizer) %>%\n",
    "  fit_transform(m_tfidf)"
   ]
  },
  {
   "cell_type": "code",
   "execution_count": 111,
   "metadata": {
    "ExecuteTime": {
     "end_time": "2018-04-06T16:36:00.363834Z",
     "start_time": "2018-04-06T16:36:00.345Z"
    },
    "scrolled": true
   },
   "outputs": [
    {
     "name": "stdout",
     "output_type": "stream",
     "text": [
      "[1] \"comment_text\" \"length\"       \"ncap\"         \"ncap_len\"     \"nexcl\"       \n",
      "[6] \"nquest\"       \"npunct\"       \"nword\"        \"nsymb\"       \n"
     ]
    }
   ],
   "source": [
    "print(names(data))"
   ]
  },
  {
   "cell_type": "markdown",
   "metadata": {},
   "source": [
    "# Generate the final dataset"
   ]
  },
  {
   "cell_type": "code",
   "execution_count": 112,
   "metadata": {
    "ExecuteTime": {
     "end_time": "2018-04-06T16:36:02.819610Z",
     "start_time": "2018-04-06T16:36:02.417Z"
    }
   },
   "outputs": [],
   "source": [
    "finaldata <- data %>%\n",
    "    select(-comment_text) %>%\n",
    "    sparse.model.matrix(~ . - 1, .) %>%\n",
    "    cbind(tfidf)"
   ]
  },
  {
   "cell_type": "code",
   "execution_count": 113,
   "metadata": {
    "ExecuteTime": {
     "end_time": "2018-04-06T16:36:05.024446Z",
     "start_time": "2018-04-06T16:36:04.664Z"
    }
   },
   "outputs": [],
   "source": [
    "set.seed(42)\n",
    "smp_size <- floor(0.80 * nrow(data_set))\n",
    "train_ind <- sample(seq_len(nrow(data_set)), size = smp_size)\n",
    "test <- finaldata[-train_ind, ]\n",
    "train <- finaldata[train_ind, ]"
   ]
  },
  {
   "cell_type": "markdown",
   "metadata": {},
   "source": [
    "# Working on the Logistic regression"
   ]
  },
  {
   "cell_type": "code",
   "execution_count": 178,
   "metadata": {
    "ExecuteTime": {
     "end_time": "2018-04-06T18:45:15.479140Z",
     "start_time": "2018-04-06T18:45:15.389Z"
    }
   },
   "outputs": [],
   "source": [
    "prediction <- select(data_set[-train_ind, ], -comment_text)\n",
    "train_label <- select(data_set[train_ind, ], -comment_text)\n",
    "test_label <- prediction"
   ]
  },
  {
   "cell_type": "code",
   "execution_count": 179,
   "metadata": {
    "ExecuteTime": {
     "end_time": "2018-04-06T18:56:21.404209Z",
     "start_time": "2018-04-06T18:45:17.637Z"
    }
   },
   "outputs": [],
   "source": [
    "for (label in targets){\n",
    "    y_train <- train_label[[label]]\n",
    "    model <- cv.glmnet(train,  factor(y_train), family=\"binomial\", nfolds = 4, parallel = T,  nlambda = 100, alpha=0)\n",
    "    prediction[[label]] <- predict(model, test, type = \"response\", s = \"lambda.min\")\n",
    "}"
   ]
  },
  {
   "cell_type": "code",
   "execution_count": 180,
   "metadata": {
    "ExecuteTime": {
     "end_time": "2018-04-06T18:56:50.658374Z",
     "start_time": "2018-04-06T18:56:50.624Z"
    }
   },
   "outputs": [
    {
     "data": {
      "text/html": [
       "<table>\n",
       "<thead><tr><th></th><th scope=col>id</th><th scope=col>toxic</th><th scope=col>severe_toxic</th><th scope=col>obscene</th><th scope=col>threat</th><th scope=col>insult</th><th scope=col>identity_hate</th></tr></thead>\n",
       "<tbody>\n",
       "\t<tr><th scope=row>1</th><td>0000997932d777bf</td><td>0.0189705568    </td><td>0.0019188034    </td><td>0.0047913665    </td><td>0.0007309999    </td><td>0.0037624869    </td><td>0.0019278840    </td></tr>\n",
       "\t<tr><th scope=row>5</th><td>0001d958c54c6e35</td><td>0.0286691487    </td><td>0.0009923556    </td><td>0.0323233664    </td><td>0.0004283634    </td><td>0.0255175482    </td><td>0.0040011252    </td></tr>\n",
       "\t<tr><th scope=row>7</th><td>0002bcb3da6cb337</td><td>0.9965078771    </td><td>0.0758724728    </td><td>0.9635744116    </td><td>0.0022519545    </td><td>0.5945125170    </td><td>0.0099592776    </td></tr>\n",
       "\t<tr><th scope=row>11</th><td>0005300084f90edc</td><td>0.0002839812    </td><td>0.0004026656    </td><td>0.0009164614    </td><td>0.0001453301    </td><td>0.0003700149    </td><td>0.0002089342    </td></tr>\n",
       "\t<tr><th scope=row>15</th><td>00070ef96486d6f9</td><td>0.0755905024    </td><td>0.0018826387    </td><td>0.0129517935    </td><td>0.0008172589    </td><td>0.0129216651    </td><td>0.0050152329    </td></tr>\n",
       "</tbody>\n",
       "</table>\n"
      ],
      "text/latex": [
       "\\begin{tabular}{r|lllllll}\n",
       "  & id & toxic & severe\\_toxic & obscene & threat & insult & identity\\_hate\\\\\n",
       "\\hline\n",
       "\t1 & 0000997932d777bf & 0.0189705568     & 0.0019188034     & 0.0047913665     & 0.0007309999     & 0.0037624869     & 0.0019278840    \\\\\n",
       "\t5 & 0001d958c54c6e35 & 0.0286691487     & 0.0009923556     & 0.0323233664     & 0.0004283634     & 0.0255175482     & 0.0040011252    \\\\\n",
       "\t7 & 0002bcb3da6cb337 & 0.9965078771     & 0.0758724728     & 0.9635744116     & 0.0022519545     & 0.5945125170     & 0.0099592776    \\\\\n",
       "\t11 & 0005300084f90edc & 0.0002839812     & 0.0004026656     & 0.0009164614     & 0.0001453301     & 0.0003700149     & 0.0002089342    \\\\\n",
       "\t15 & 00070ef96486d6f9 & 0.0755905024     & 0.0018826387     & 0.0129517935     & 0.0008172589     & 0.0129216651     & 0.0050152329    \\\\\n",
       "\\end{tabular}\n"
      ],
      "text/markdown": [
       "\n",
       "| <!--/--> | id | toxic | severe_toxic | obscene | threat | insult | identity_hate | \n",
       "|---|---|---|---|---|\n",
       "| 1 | 0000997932d777bf | 0.0189705568     | 0.0019188034     | 0.0047913665     | 0.0007309999     | 0.0037624869     | 0.0019278840     | \n",
       "| 5 | 0001d958c54c6e35 | 0.0286691487     | 0.0009923556     | 0.0323233664     | 0.0004283634     | 0.0255175482     | 0.0040011252     | \n",
       "| 7 | 0002bcb3da6cb337 | 0.9965078771     | 0.0758724728     | 0.9635744116     | 0.0022519545     | 0.5945125170     | 0.0099592776     | \n",
       "| 11 | 0005300084f90edc | 0.0002839812     | 0.0004026656     | 0.0009164614     | 0.0001453301     | 0.0003700149     | 0.0002089342     | \n",
       "| 15 | 00070ef96486d6f9 | 0.0755905024     | 0.0018826387     | 0.0129517935     | 0.0008172589     | 0.0129216651     | 0.0050152329     | \n",
       "\n",
       "\n"
      ],
      "text/plain": [
       "   id               toxic        severe_toxic obscene      threat      \n",
       "1  0000997932d777bf 0.0189705568 0.0019188034 0.0047913665 0.0007309999\n",
       "5  0001d958c54c6e35 0.0286691487 0.0009923556 0.0323233664 0.0004283634\n",
       "7  0002bcb3da6cb337 0.9965078771 0.0758724728 0.9635744116 0.0022519545\n",
       "11 0005300084f90edc 0.0002839812 0.0004026656 0.0009164614 0.0001453301\n",
       "15 00070ef96486d6f9 0.0755905024 0.0018826387 0.0129517935 0.0008172589\n",
       "   insult       identity_hate\n",
       "1  0.0037624869 0.0019278840 \n",
       "5  0.0255175482 0.0040011252 \n",
       "7  0.5945125170 0.0099592776 \n",
       "11 0.0003700149 0.0002089342 \n",
       "15 0.0129216651 0.0050152329 "
      ]
     },
     "metadata": {},
     "output_type": "display_data"
    }
   ],
   "source": [
    "prediction[1:5,]"
   ]
  },
  {
   "cell_type": "code",
   "execution_count": 181,
   "metadata": {
    "ExecuteTime": {
     "end_time": "2018-04-06T18:57:01.274181Z",
     "start_time": "2018-04-06T18:57:01.215Z"
    }
   },
   "outputs": [],
   "source": [
    "thresh = 0.5\n",
    "ss2 <- sweep(as.matrix(prediction[,-1]),MARGIN=2,STATS=thresh,\n",
    "             FUN=function(x,y) ifelse(x<y,0,1))"
   ]
  },
  {
   "cell_type": "code",
   "execution_count": 182,
   "metadata": {
    "ExecuteTime": {
     "end_time": "2018-04-06T18:57:07.703751Z",
     "start_time": "2018-04-06T18:57:07.671Z"
    }
   },
   "outputs": [],
   "source": [
    "prediction <- data.frame(id=prediction$id,ss2)"
   ]
  },
  {
   "cell_type": "code",
   "execution_count": 183,
   "metadata": {
    "ExecuteTime": {
     "end_time": "2018-04-06T18:57:09.553901Z",
     "start_time": "2018-04-06T18:57:09.511Z"
    }
   },
   "outputs": [
    {
     "data": {
      "text/html": [
       "<table>\n",
       "<thead><tr><th></th><th scope=col>id</th><th scope=col>toxic</th><th scope=col>severe_toxic</th><th scope=col>obscene</th><th scope=col>threat</th><th scope=col>insult</th><th scope=col>identity_hate</th></tr></thead>\n",
       "<tbody>\n",
       "\t<tr><th scope=row>1</th><td>0000997932d777bf</td><td>0               </td><td>0               </td><td>0               </td><td>0               </td><td>0               </td><td>0               </td></tr>\n",
       "\t<tr><th scope=row>5</th><td>0001d958c54c6e35</td><td>0               </td><td>0               </td><td>0               </td><td>0               </td><td>0               </td><td>0               </td></tr>\n",
       "\t<tr><th scope=row>7</th><td>0002bcb3da6cb337</td><td>1               </td><td>0               </td><td>1               </td><td>0               </td><td>1               </td><td>0               </td></tr>\n",
       "\t<tr><th scope=row>11</th><td>0005300084f90edc</td><td>0               </td><td>0               </td><td>0               </td><td>0               </td><td>0               </td><td>0               </td></tr>\n",
       "\t<tr><th scope=row>15</th><td>00070ef96486d6f9</td><td>0               </td><td>0               </td><td>0               </td><td>0               </td><td>0               </td><td>0               </td></tr>\n",
       "</tbody>\n",
       "</table>\n"
      ],
      "text/latex": [
       "\\begin{tabular}{r|lllllll}\n",
       "  & id & toxic & severe\\_toxic & obscene & threat & insult & identity\\_hate\\\\\n",
       "\\hline\n",
       "\t1 & 0000997932d777bf & 0                & 0                & 0                & 0                & 0                & 0               \\\\\n",
       "\t5 & 0001d958c54c6e35 & 0                & 0                & 0                & 0                & 0                & 0               \\\\\n",
       "\t7 & 0002bcb3da6cb337 & 1                & 0                & 1                & 0                & 1                & 0               \\\\\n",
       "\t11 & 0005300084f90edc & 0                & 0                & 0                & 0                & 0                & 0               \\\\\n",
       "\t15 & 00070ef96486d6f9 & 0                & 0                & 0                & 0                & 0                & 0               \\\\\n",
       "\\end{tabular}\n"
      ],
      "text/markdown": [
       "\n",
       "| <!--/--> | id | toxic | severe_toxic | obscene | threat | insult | identity_hate | \n",
       "|---|---|---|---|---|\n",
       "| 1 | 0000997932d777bf | 0                | 0                | 0                | 0                | 0                | 0                | \n",
       "| 5 | 0001d958c54c6e35 | 0                | 0                | 0                | 0                | 0                | 0                | \n",
       "| 7 | 0002bcb3da6cb337 | 1                | 0                | 1                | 0                | 1                | 0                | \n",
       "| 11 | 0005300084f90edc | 0                | 0                | 0                | 0                | 0                | 0                | \n",
       "| 15 | 00070ef96486d6f9 | 0                | 0                | 0                | 0                | 0                | 0                | \n",
       "\n",
       "\n"
      ],
      "text/plain": [
       "   id               toxic severe_toxic obscene threat insult identity_hate\n",
       "1  0000997932d777bf 0     0            0       0      0      0            \n",
       "5  0001d958c54c6e35 0     0            0       0      0      0            \n",
       "7  0002bcb3da6cb337 1     0            1       0      1      0            \n",
       "11 0005300084f90edc 0     0            0       0      0      0            \n",
       "15 00070ef96486d6f9 0     0            0       0      0      0            "
      ]
     },
     "metadata": {},
     "output_type": "display_data"
    },
    {
     "data": {
      "text/html": [
       "<table>\n",
       "<thead><tr><th></th><th scope=col>id</th><th scope=col>toxic</th><th scope=col>severe_toxic</th><th scope=col>obscene</th><th scope=col>threat</th><th scope=col>insult</th><th scope=col>identity_hate</th></tr></thead>\n",
       "<tbody>\n",
       "\t<tr><th scope=row>1</th><td>0000997932d777bf</td><td>0               </td><td>0               </td><td>0               </td><td>0               </td><td>0               </td><td>0               </td></tr>\n",
       "\t<tr><th scope=row>5</th><td>0001d958c54c6e35</td><td>0               </td><td>0               </td><td>0               </td><td>0               </td><td>0               </td><td>0               </td></tr>\n",
       "\t<tr><th scope=row>7</th><td>0002bcb3da6cb337</td><td>1               </td><td>1               </td><td>1               </td><td>0               </td><td>1               </td><td>0               </td></tr>\n",
       "\t<tr><th scope=row>11</th><td>0005300084f90edc</td><td>0               </td><td>0               </td><td>0               </td><td>0               </td><td>0               </td><td>0               </td></tr>\n",
       "\t<tr><th scope=row>15</th><td>00070ef96486d6f9</td><td>0               </td><td>0               </td><td>0               </td><td>0               </td><td>0               </td><td>0               </td></tr>\n",
       "</tbody>\n",
       "</table>\n"
      ],
      "text/latex": [
       "\\begin{tabular}{r|lllllll}\n",
       "  & id & toxic & severe\\_toxic & obscene & threat & insult & identity\\_hate\\\\\n",
       "\\hline\n",
       "\t1 & 0000997932d777bf & 0                & 0                & 0                & 0                & 0                & 0               \\\\\n",
       "\t5 & 0001d958c54c6e35 & 0                & 0                & 0                & 0                & 0                & 0               \\\\\n",
       "\t7 & 0002bcb3da6cb337 & 1                & 1                & 1                & 0                & 1                & 0               \\\\\n",
       "\t11 & 0005300084f90edc & 0                & 0                & 0                & 0                & 0                & 0               \\\\\n",
       "\t15 & 00070ef96486d6f9 & 0                & 0                & 0                & 0                & 0                & 0               \\\\\n",
       "\\end{tabular}\n"
      ],
      "text/markdown": [
       "\n",
       "| <!--/--> | id | toxic | severe_toxic | obscene | threat | insult | identity_hate | \n",
       "|---|---|---|---|---|\n",
       "| 1 | 0000997932d777bf | 0                | 0                | 0                | 0                | 0                | 0                | \n",
       "| 5 | 0001d958c54c6e35 | 0                | 0                | 0                | 0                | 0                | 0                | \n",
       "| 7 | 0002bcb3da6cb337 | 1                | 1                | 1                | 0                | 1                | 0                | \n",
       "| 11 | 0005300084f90edc | 0                | 0                | 0                | 0                | 0                | 0                | \n",
       "| 15 | 00070ef96486d6f9 | 0                | 0                | 0                | 0                | 0                | 0                | \n",
       "\n",
       "\n"
      ],
      "text/plain": [
       "   id               toxic severe_toxic obscene threat insult identity_hate\n",
       "1  0000997932d777bf 0     0            0       0      0      0            \n",
       "5  0001d958c54c6e35 0     0            0       0      0      0            \n",
       "7  0002bcb3da6cb337 1     1            1       0      1      0            \n",
       "11 0005300084f90edc 0     0            0       0      0      0            \n",
       "15 00070ef96486d6f9 0     0            0       0      0      0            "
      ]
     },
     "metadata": {},
     "output_type": "display_data"
    }
   ],
   "source": [
    "prediction[1:5,]\n",
    "test_label[1:5,]"
   ]
  },
  {
   "cell_type": "code",
   "execution_count": 184,
   "metadata": {
    "ExecuteTime": {
     "end_time": "2018-04-06T18:57:33.149723Z",
     "start_time": "2018-04-06T18:57:33.126Z"
    }
   },
   "outputs": [],
   "source": [
    "prediction_w_id <- select(prediction, -id)\n",
    "test_label_w_id <- select(test_label, -id)"
   ]
  },
  {
   "cell_type": "code",
   "execution_count": 187,
   "metadata": {
    "ExecuteTime": {
     "end_time": "2018-04-06T18:58:44.251973Z",
     "start_time": "2018-04-06T18:58:44.002Z"
    },
    "scrolled": false
   },
   "outputs": [
    {
     "name": "stdout",
     "output_type": "stream",
     "text": [
      "\n",
      "\n",
      " toxic \n",
      "\n",
      "Confusion Matrix and Statistics\n",
      "\n",
      "          Reference\n",
      "Prediction     0     1\n",
      "         0 28613   279\n",
      "         1  1100  1923\n",
      "                                         \n",
      "               Accuracy : 0.9568         \n",
      "                 95% CI : (0.9545, 0.959)\n",
      "    No Information Rate : 0.931          \n",
      "    P-Value [Acc > NIR] : < 2.2e-16      \n",
      "                                         \n",
      "                  Kappa : 0.7132         \n",
      " Mcnemar's Test P-Value : < 2.2e-16      \n",
      "                                         \n",
      "            Sensitivity : 0.9630         \n",
      "            Specificity : 0.8733         \n",
      "         Pos Pred Value : 0.9903         \n",
      "         Neg Pred Value : 0.6361         \n",
      "             Prevalence : 0.9310         \n",
      "         Detection Rate : 0.8965         \n",
      "   Detection Prevalence : 0.9053         \n",
      "      Balanced Accuracy : 0.9181         \n",
      "                                         \n",
      "       'Positive' Class : 0              \n",
      "                                         \n",
      "\n",
      "\n",
      " severe_toxic \n",
      "\n",
      "Confusion Matrix and Statistics\n",
      "\n",
      "          Reference\n",
      "Prediction     0     1\n",
      "         0 31548    59\n",
      "         1   229    79\n",
      "                                         \n",
      "               Accuracy : 0.991          \n",
      "                 95% CI : (0.9899, 0.992)\n",
      "    No Information Rate : 0.9957         \n",
      "    P-Value [Acc > NIR] : 1              \n",
      "                                         \n",
      "                  Kappa : 0.3504         \n",
      " Mcnemar's Test P-Value : <2e-16         \n",
      "                                         \n",
      "            Sensitivity : 0.9928         \n",
      "            Specificity : 0.5725         \n",
      "         Pos Pred Value : 0.9981         \n",
      "         Neg Pred Value : 0.2565         \n",
      "             Prevalence : 0.9957         \n",
      "         Detection Rate : 0.9885         \n",
      "   Detection Prevalence : 0.9903         \n",
      "      Balanced Accuracy : 0.7826         \n",
      "                                         \n",
      "       'Positive' Class : 0              \n",
      "                                         \n",
      "\n",
      "\n",
      " obscene \n",
      "\n",
      "Confusion Matrix and Statistics\n",
      "\n",
      "          Reference\n",
      "Prediction     0     1\n",
      "         0 30142   129\n",
      "         1   585  1059\n",
      "                                          \n",
      "               Accuracy : 0.9776          \n",
      "                 95% CI : (0.9759, 0.9792)\n",
      "    No Information Rate : 0.9628          \n",
      "    P-Value [Acc > NIR] : < 2.2e-16       \n",
      "                                          \n",
      "                  Kappa : 0.7365          \n",
      " Mcnemar's Test P-Value : < 2.2e-16       \n",
      "                                          \n",
      "            Sensitivity : 0.9810          \n",
      "            Specificity : 0.8914          \n",
      "         Pos Pred Value : 0.9957          \n",
      "         Neg Pred Value : 0.6442          \n",
      "             Prevalence : 0.9628          \n",
      "         Detection Rate : 0.9444          \n",
      "   Detection Prevalence : 0.9485          \n",
      "      Balanced Accuracy : 0.9362          \n",
      "                                          \n",
      "       'Positive' Class : 0               \n",
      "                                          \n",
      "\n",
      "\n",
      " threat \n",
      "\n",
      "Confusion Matrix and Statistics\n",
      "\n",
      "          Reference\n",
      "Prediction     0     1\n",
      "         0 31803    15\n",
      "         1    81    16\n",
      "                                          \n",
      "               Accuracy : 0.997           \n",
      "                 95% CI : (0.9963, 0.9976)\n",
      "    No Information Rate : 0.999           \n",
      "    P-Value [Acc > NIR] : 1               \n",
      "                                          \n",
      "                  Kappa : 0.2489          \n",
      " Mcnemar's Test P-Value : 3.266e-11       \n",
      "                                          \n",
      "            Sensitivity : 0.9975          \n",
      "            Specificity : 0.5161          \n",
      "         Pos Pred Value : 0.9995          \n",
      "         Neg Pred Value : 0.1649          \n",
      "             Prevalence : 0.9990          \n",
      "         Detection Rate : 0.9965          \n",
      "   Detection Prevalence : 0.9970          \n",
      "      Balanced Accuracy : 0.7568          \n",
      "                                          \n",
      "       'Positive' Class : 0               \n",
      "                                          \n",
      "\n",
      "\n",
      " insult \n",
      "\n",
      "Confusion Matrix and Statistics\n",
      "\n",
      "          Reference\n",
      "Prediction     0     1\n",
      "         0 30213   209\n",
      "         1   700   793\n",
      "                                          \n",
      "               Accuracy : 0.9715          \n",
      "                 95% CI : (0.9696, 0.9733)\n",
      "    No Information Rate : 0.9686          \n",
      "    P-Value [Acc > NIR] : 0.001306        \n",
      "                                          \n",
      "                  Kappa : 0.6214          \n",
      " Mcnemar's Test P-Value : < 2.2e-16       \n",
      "                                          \n",
      "            Sensitivity : 0.9774          \n",
      "            Specificity : 0.7914          \n",
      "         Pos Pred Value : 0.9931          \n",
      "         Neg Pred Value : 0.5311          \n",
      "             Prevalence : 0.9686          \n",
      "         Detection Rate : 0.9467          \n",
      "   Detection Prevalence : 0.9532          \n",
      "      Balanced Accuracy : 0.8844          \n",
      "                                          \n",
      "       'Positive' Class : 0               \n",
      "                                          \n",
      "\n",
      "\n",
      " identity_hate \n",
      "\n",
      "Confusion Matrix and Statistics\n",
      "\n",
      "          Reference\n",
      "Prediction     0     1\n",
      "         0 31641    31\n",
      "         1   180    63\n",
      "                                          \n",
      "               Accuracy : 0.9934          \n",
      "                 95% CI : (0.9924, 0.9942)\n",
      "    No Information Rate : 0.9971          \n",
      "    P-Value [Acc > NIR] : 1               \n",
      "                                          \n",
      "                  Kappa : 0.3712          \n",
      " Mcnemar's Test P-Value : <2e-16          \n",
      "                                          \n",
      "            Sensitivity : 0.9943          \n",
      "            Specificity : 0.6702          \n",
      "         Pos Pred Value : 0.9990          \n",
      "         Neg Pred Value : 0.2593          \n",
      "             Prevalence : 0.9971          \n",
      "         Detection Rate : 0.9914          \n",
      "   Detection Prevalence : 0.9924          \n",
      "      Balanced Accuracy : 0.8323          \n",
      "                                          \n",
      "       'Positive' Class : 0               \n",
      "                                          \n"
     ]
    }
   ],
   "source": [
    "for (label in targets) {\n",
    "    cat(\"\\n\\n\", label, \"\\n\\n\")\n",
    "    print(confusionMatrix(test_label_w_id[[label]], prediction_w_id[[label]]))\n",
    "}"
   ]
  },
  {
   "cell_type": "code",
   "execution_count": null,
   "metadata": {},
   "outputs": [],
   "source": []
  }
 ],
 "metadata": {
  "kernelspec": {
   "display_name": "R",
   "language": "R",
   "name": "ir"
  },
  "language_info": {
   "codemirror_mode": "r",
   "file_extension": ".r",
   "mimetype": "text/x-r-source",
   "name": "R",
   "pygments_lexer": "r",
   "version": "3.4.1"
  },
  "varInspector": {
   "cols": {
    "lenName": 16,
    "lenType": 16,
    "lenVar": 40
   },
   "kernels_config": {
    "python": {
     "delete_cmd_postfix": "",
     "delete_cmd_prefix": "del ",
     "library": "var_list.py",
     "varRefreshCmd": "print(var_dic_list())"
    },
    "r": {
     "delete_cmd_postfix": ") ",
     "delete_cmd_prefix": "rm(",
     "library": "var_list.r",
     "varRefreshCmd": "cat(var_dic_list()) "
    }
   },
   "oldHeight": 123,
   "position": {
    "height": "40px",
    "left": "714px",
    "right": "-4px",
    "top": "45px",
    "width": "250px"
   },
   "types_to_exclude": [
    "module",
    "function",
    "builtin_function_or_method",
    "instance",
    "_Feature"
   ],
   "varInspector_section_display": "none",
   "window_display": true
  }
 },
 "nbformat": 4,
 "nbformat_minor": 2
}
